{
 "cells": [
  {
   "cell_type": "code",
   "execution_count": 1,
   "metadata": {},
   "outputs": [],
   "source": [
    "import cv2\n",
    "import pandas as pd"
   ]
  },
  {
   "cell_type": "code",
   "execution_count": 10,
   "metadata": {},
   "outputs": [
    {
     "data": {
      "text/plain": [
       "7001"
      ]
     },
     "execution_count": 10,
     "metadata": {},
     "output_type": "execute_result"
    }
   ],
   "source": [
    "#Read csv\n",
    "datasetCSV = \"DataP2/dev.csv\"\n",
    "header = [\"ImageName\", \"Level\",\"x\",\"y\",\"w\",\"h\"]\n",
    "dataset_df = pd.read_csv(datasetCSV, names=header)\n",
    "\n",
    "dataset_df.shape[0]"
   ]
  },
  {
   "cell_type": "code",
   "execution_count": 11,
   "metadata": {},
   "outputs": [],
   "source": [
    "#Crop\n",
    "exceptInfo = []\n",
    "for i in range(1,dataset_df.shape[0]):    \n",
    "    ImageName = dataset_df[\"ImageName\"][i]\n",
    "    x = int(dataset_df[\"x\"][i])\n",
    "    y = int(dataset_df[\"y\"][i])\n",
    "    w = int(dataset_df[\"w\"][i])\n",
    "    h = int(dataset_df[\"h\"][i])    \n",
    "    \n",
    "    try:\n",
    "        img = cv2.imread(\"DataP2/Dev/\"+str(ImageName))\n",
    "        crop_img = img[y:y+h, x:x+w]        \n",
    "        cv2.imwrite(\"DataP2_crop/Dev/\"+str(ImageName), crop_img)\n",
    "    except Exception as e:\n",
    "        exceptInfo.append(i)\n",
    "        print(str(i)+\":\"+str(e))\n",
    "print(\"Finish\")      \n"
   ]
  },
  {
   "cell_type": "code",
   "execution_count": null,
   "metadata": {},
   "outputs": [],
   "source": []
  }
 ],
 "metadata": {
  "kernelspec": {
   "display_name": "Python 3",
   "language": "python",
   "name": "python3"
  },
  "language_info": {
   "codemirror_mode": {
    "name": "ipython",
    "version": 3
   },
   "file_extension": ".py",
   "mimetype": "text/x-python",
   "name": "python",
   "nbconvert_exporter": "python",
   "pygments_lexer": "ipython3",
   "version": "3.7.7"
  }
 },
 "nbformat": 4,
 "nbformat_minor": 4
}
